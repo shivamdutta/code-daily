{
 "cells": [
  {
   "cell_type": "code",
   "execution_count": 1,
   "metadata": {},
   "outputs": [],
   "source": [
    "def zig_zag(x):\n",
    "    x = list(set(x))\n",
    "    b = []\n",
    "    for elem in range(len(x)):\n",
    "        if elem==(len(x)-1):\n",
    "            if (elem%2==0):\n",
    "                if(x[elem-1] < x[elem]):\n",
    "                    b.append(x[elem])\n",
    "                    x[elem] = x[elem]\n",
    "                else:\n",
    "\n",
    "                    b.append(x[elem])\n",
    "                    x[elem] = x[elem-1]\n",
    "\n",
    "\n",
    "            else:\n",
    "                if(x[elem-1] > x[elem]):\n",
    "                    b.append(x[elem-1])\n",
    "                    x[elem] = x[elem]\n",
    "\n",
    "                else:\n",
    "                    b.append(x[elem])\n",
    "                    x[elem] = x[elem-1]\n",
    "        else:    \n",
    "            if (elem%2==0):\n",
    "                if(x[elem] < x[elem+1]):\n",
    "                    b.append(x[elem])\n",
    "                    x[elem+1] = x[elem+1]\n",
    "                else:\n",
    "\n",
    "                    b.append(x[elem+1])\n",
    "                    x[elem+1] = x[elem]\n",
    "\n",
    "\n",
    "            else:\n",
    "                if(x[elem] > x[elem+1]):\n",
    "                    b.append(x[elem])\n",
    "                    x[elem+1] = x[elem+1]\n",
    "\n",
    "                else:\n",
    "                    b.append(x[elem+1])\n",
    "                    x[elem+1] = x[elem]\n",
    "    return b"
   ]
  },
  {
   "cell_type": "code",
   "execution_count": 2,
   "metadata": {},
   "outputs": [],
   "source": [
    "x=[478,8278,7171,1,27890,76290,12,6,2,3556,3345,23345,8978,1,6,34,5,56,5,4,3]"
   ]
  },
  {
   "cell_type": "code",
   "execution_count": 3,
   "metadata": {},
   "outputs": [
    {
     "data": {
      "text/plain": [
       "[1,\n",
       " 76290,\n",
       " 3556,\n",
       " 7171,\n",
       " 5,\n",
       " 23345,\n",
       " 6,\n",
       " 12,\n",
       " 2,\n",
       " 3345,\n",
       " 34,\n",
       " 27890,\n",
       " 3,\n",
       " 8278,\n",
       " 4,\n",
       " 8978,\n",
       " 56,\n",
       " 478]"
      ]
     },
     "execution_count": 3,
     "metadata": {},
     "output_type": "execute_result"
    }
   ],
   "source": [
    "zig_zag(x)"
   ]
  },
  {
   "cell_type": "code",
   "execution_count": 4,
   "metadata": {},
   "outputs": [],
   "source": [
    "def zigZag(arr, n): \n",
    "    # Flag true indicates relation \"<\" is expected, \n",
    "    # else \">\" is expected.  The first expected relation \n",
    "    # is \"<\" \n",
    "    flag = True\n",
    "    for i in range(n-1): \n",
    "        # \"<\" relation expected \n",
    "        if flag is True: \n",
    "            # If we have a situation like A > B > C, \n",
    "            #   we get A > B < C  \n",
    "            # by swapping B and C \n",
    "            if arr[i] > arr[i+1]: \n",
    "                arr[i],arr[i+1] = arr[i+1],arr[i] \n",
    "            # \">\" relation expected \n",
    "        else: \n",
    "            # If we have a situation like A < B < C, \n",
    "            #   we get A < C > B \n",
    "            # by swapping B and C     \n",
    "            if arr[i] < arr[i+1]: \n",
    "                arr[i],arr[i+1] = arr[i+1],arr[i] \n",
    "        flag = bool(1 - flag) \n",
    "    print(arr)"
   ]
  },
  {
   "cell_type": "code",
   "execution_count": null,
   "metadata": {},
   "outputs": [],
   "source": []
  }
 ],
 "metadata": {
  "kernelspec": {
   "display_name": "Python 3",
   "language": "python",
   "name": "python3"
  },
  "language_info": {
   "codemirror_mode": {
    "name": "ipython",
    "version": 2
   },
   "file_extension": ".py",
   "mimetype": "text/x-python",
   "name": "python",
   "nbconvert_exporter": "python",
   "pygments_lexer": "ipython2",
   "version": "2.7.12"
  }
 },
 "nbformat": 4,
 "nbformat_minor": 2
}
