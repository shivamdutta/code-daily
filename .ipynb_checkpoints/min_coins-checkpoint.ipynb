{
 "cells": [
  {
   "cell_type": "code",
   "execution_count": 18,
   "metadata": {},
   "outputs": [],
   "source": [
    "import sys"
   ]
  },
  {
   "cell_type": "code",
   "execution_count": 19,
   "metadata": {},
   "outputs": [],
   "source": [
    "V_orig = 1028\n",
    "coins_orig = [25,10,5,7,3,8,9]"
   ]
  },
  {
   "cell_type": "code",
   "execution_count": 20,
   "metadata": {},
   "outputs": [],
   "source": [
    "def minCoins(coins, V): \n",
    "    \n",
    "    m = len(coins)\n",
    "    # table[i] will be storing the minimum  \n",
    "    # number of coins required for i value.  \n",
    "    # So table[V] will have result\n",
    "    table = [sys.maxsize for i in range(V + 1)] \n",
    "  \n",
    "    # Base case (If given value V is 0) \n",
    "    table[0] = 0\n",
    " \n",
    "  \n",
    "    # Compute minimum coins required  \n",
    "    # for all values from 1 to V \n",
    "    for i in range(1, V + 1): \n",
    "          \n",
    "        # Go through all coins smaller than i \n",
    "        for j in range(m): \n",
    "            if (coins[j] <= i): \n",
    "                sub_res = table[i - coins[j]] \n",
    "                if (sub_res != sys.maxsize and \n",
    "                    sub_res + 1 < table[i]): \n",
    "                    table[i] = sub_res + 1\n",
    "    return table[V]"
   ]
  },
  {
   "cell_type": "code",
   "execution_count": 21,
   "metadata": {},
   "outputs": [
    {
     "data": {
      "text/plain": [
       "42"
      ]
     },
     "execution_count": 21,
     "metadata": {},
     "output_type": "execute_result"
    }
   ],
   "source": [
    "minCoins(coins_orig,V_orig)"
   ]
  },
  {
   "cell_type": "code",
   "execution_count": null,
   "metadata": {},
   "outputs": [],
   "source": []
  }
 ],
 "metadata": {
  "kernelspec": {
   "display_name": "Python 3",
   "language": "python",
   "name": "python3"
  },
  "language_info": {
   "codemirror_mode": {
    "name": "ipython",
    "version": 2
   },
   "file_extension": ".py",
   "mimetype": "text/x-python",
   "name": "python",
   "nbconvert_exporter": "python",
   "pygments_lexer": "ipython2",
   "version": "2.7.12"
  }
 },
 "nbformat": 4,
 "nbformat_minor": 2
}
