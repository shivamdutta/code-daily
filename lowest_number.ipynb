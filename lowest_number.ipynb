{
 "cells": [
  {
   "cell_type": "code",
   "execution_count": 34,
   "metadata": {},
   "outputs": [],
   "source": [
    "def buildLowestNumber(string, n, res=''):\n",
    "    \n",
    "    if n==0:\n",
    "        res = res + string\n",
    "        return res\n",
    "    \n",
    "    if len(string) <= n:\n",
    "        return res\n",
    "    \n",
    "    i = 0\n",
    "    a = []\n",
    "    for x in range(len(string[0:n+1])):\n",
    "        a.append(0)\n",
    "        \n",
    "    for integer in string[0:n+1]:\n",
    "        a[i] = int(integer)\n",
    "        i=i+1\n",
    "    \n",
    "    min_val = min(a)\n",
    "    min_index = a.index(min(a))\n",
    "    #print min_val,min_index\n",
    "    res = res + str(min_val)\n",
    "    #print string[min_index+1:], n-min_index\n",
    "    return buildLowestNumber(string[min_index+1:], n-min_index, res)"
   ]
  },
  {
   "cell_type": "code",
   "execution_count": 35,
   "metadata": {},
   "outputs": [
    {
     "data": {
      "text/plain": [
       "'2043'"
      ]
     },
     "execution_count": 35,
     "metadata": {},
     "output_type": "execute_result"
    }
   ],
   "source": [
    "buildLowestNumber(\"4325043\", 3)"
   ]
  },
  {
   "cell_type": "code",
   "execution_count": 36,
   "metadata": {},
   "outputs": [
    {
     "data": {
      "text/plain": [
       "'1118'"
      ]
     },
     "execution_count": 36,
     "metadata": {},
     "output_type": "execute_result"
    }
   ],
   "source": [
    "buildLowestNumber(\"121198\", 2)"
   ]
  },
  {
   "cell_type": "code",
   "execution_count": null,
   "metadata": {},
   "outputs": [],
   "source": []
  }
 ],
 "metadata": {
  "kernelspec": {
   "display_name": "Python 3",
   "language": "python",
   "name": "python3"
  },
  "language_info": {
   "codemirror_mode": {
    "name": "ipython",
    "version": 2
   },
   "file_extension": ".py",
   "mimetype": "text/x-python",
   "name": "python",
   "nbconvert_exporter": "python",
   "pygments_lexer": "ipython2",
   "version": "2.7.12"
  }
 },
 "nbformat": 4,
 "nbformat_minor": 2
}
